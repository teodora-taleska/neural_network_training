{
 "cells": [
  {
   "metadata": {},
   "cell_type": "markdown",
   "source": [
    "# Fashion-MNIST Custom Neural Network Training\n",
    "University of Ljubljana, Faculty of Computer and Information Science\n",
    "Course: Machine Learning, 2024-2025\n",
    "\n",
    "Teodora Taleska"
   ],
   "id": "1b31157bddb445e3"
  },
  {
   "metadata": {},
   "cell_type": "markdown",
   "source": "## Environment Setup",
   "id": "3cc41436ca221f45"
  },
  {
   "metadata": {
    "ExecuteTime": {
     "end_time": "2025-01-07T14:07:55.706885Z",
     "start_time": "2025-01-07T14:07:51.712302Z"
    }
   },
   "cell_type": "code",
   "source": [
    "import torch\n",
    "import gzip\n",
    "import numpy as np\n",
    "import matplotlib.pyplot as plt\n",
    "import torch.nn.functional as F\n",
    "from sklearn.model_selection import train_test_split\n",
    "import torch.nn as nn"
   ],
   "id": "89e710c56eda0cc1",
   "outputs": [],
   "execution_count": 1
  },
  {
   "metadata": {},
   "cell_type": "markdown",
   "source": [
    "## Load the Data\n",
    "\n",
    "Load the Fashion-MNIST dataset from the official Fashion-MNIST GitHub repository using the `utils.mnist_reader` module. The dataset consists of 60,000 training samples, each belonging to one of 10 fashion-related classes. Then, normalize the training sample values to the range [0, 1] and visualize one random member from each of the 10 classes.\n"
   ],
   "id": "55ecaa41e66712d9"
  },
  {
   "metadata": {
    "ExecuteTime": {
     "end_time": "2025-01-07T14:07:56.022944Z",
     "start_time": "2025-01-07T14:07:55.725526Z"
    }
   },
   "cell_type": "code",
   "source": [
    "def load_mnist_images(filename):\n",
    "    with gzip.open(filename, 'rb') as f:\n",
    "        data = np.frombuffer(f.read(), np.uint8, offset=16).reshape(-1, 28, 28)\n",
    "    return data\n",
    "\n",
    "def load_mnist_labels(filename):\n",
    "    with gzip.open(filename, 'rb') as f:\n",
    "        data = np.frombuffer(f.read(), np.uint8, offset=8)\n",
    "    return data\n",
    "\n",
    "train_images = load_mnist_images('../data/fashion/train-images-idx3-ubyte.gz')\n",
    "train_labels = load_mnist_labels('../data/fashion/train-labels-idx1-ubyte.gz')\n",
    "test_images = load_mnist_images('../data/fashion/t10k-images-idx3-ubyte.gz')\n",
    "test_labels = load_mnist_labels('../data/fashion/t10k-labels-idx1-ubyte.gz')\n",
    "\n",
    "print(f\"Train images shape: {train_images.shape}\")\n",
    "print(f\"Train labels shape: {train_labels.shape}\")\n",
    "\n",
    "print(f\"Test images shape: {test_images.shape}\")\n",
    "print(f\"Test labels shape: {test_labels.shape}\")"
   ],
   "id": "6149d699a41d8e9f",
   "outputs": [
    {
     "name": "stdout",
     "output_type": "stream",
     "text": [
      "Train images shape: (60000, 28, 28)\n",
      "Train labels shape: (60000,)\n",
      "Test images shape: (10000, 28, 28)\n",
      "Test labels shape: (10000,)\n"
     ]
    }
   ],
   "execution_count": 2
  },
  {
   "metadata": {},
   "cell_type": "markdown",
   "source": [
    "### Normalize the Data\n",
    "\n",
    "After loading the data, normalize the pixel values of the training samples to the range [0, 1]. This step ensures that all features are on a consistent scale, making them suitable for use in neural network model. The normalization is performed by dividing each pixel value by 255, which is the maximum possible intensity in the dataset."
   ],
   "id": "d76f4788b7ed17b2"
  },
  {
   "metadata": {
    "ExecuteTime": {
     "end_time": "2025-01-07T14:08:14.717419Z",
     "start_time": "2025-01-07T14:08:14.574406Z"
    }
   },
   "cell_type": "code",
   "source": [
    "train_images, val_images, train_labels, val_labels = train_test_split(\n",
    "    train_images, train_labels, test_size=0.2, random_state=42\n",
    ")\n",
    "\n",
    "# reshaping images to [N, 1, 28, 28] and convert to PyTorch tensors\n",
    "train_images = torch.tensor(train_images, dtype=torch.float32).unsqueeze(1) / 255.0\n",
    "val_images = torch.tensor(val_images, dtype=torch.float32).unsqueeze(1) / 255.0\n",
    "test_images = torch.tensor(test_images, dtype=torch.float32).unsqueeze(1) / 255.0\n",
    "\n",
    "# convert labels to integer class indices before one-hot encoding\n",
    "train_labels = torch.tensor(train_labels, dtype=torch.long)\n",
    "val_labels = torch.tensor(val_labels, dtype=torch.long)\n",
    "test_labels = torch.tensor(test_labels, dtype=torch.long)\n",
    "\n",
    "# labels to one-hot encoding\n",
    "train_labels = F.one_hot(train_labels, num_classes=10).float()\n",
    "val_labels = F.one_hot(val_labels, num_classes=10).float()\n",
    "test_labels = F.one_hot(test_labels, num_classes=10).float()\n",
    "\n",
    "print(f\"Train images shape: {train_images.shape}, Train labels shape: {train_labels.shape}\")\n",
    "print(f\"Validation images shape: {val_images.shape}, Validation labels shape: {val_labels.shape}\")\n",
    "print(f\"Test images shape: {test_images.shape}, Test labels shape: {test_labels.shape}\")"
   ],
   "id": "7744c4a1fa6ae0db",
   "outputs": [
    {
     "name": "stdout",
     "output_type": "stream",
     "text": [
      "Train images shape: torch.Size([48000, 1, 28, 28]), Train labels shape: torch.Size([48000, 10])\n",
      "Validation images shape: torch.Size([12000, 1, 28, 28]), Validation labels shape: torch.Size([12000, 10])\n",
      "Test images shape: torch.Size([10000, 1, 28, 28]), Test labels shape: torch.Size([10000, 10])\n"
     ]
    }
   ],
   "execution_count": 3
  },
  {
   "metadata": {},
   "cell_type": "markdown",
   "source": [
    "### Visualization\n",
    "Visualization of one random member from each of the 10 classes in the training dataset."
   ],
   "id": "ad512dbb350d0236"
  },
  {
   "metadata": {
    "ExecuteTime": {
     "end_time": "2025-01-07T14:21:43.773755Z",
     "start_time": "2025-01-07T14:21:43.718031Z"
    }
   },
   "cell_type": "code",
   "source": [
    "# accessing the first image - single channel\n",
    "plt.imshow(train_images[0, 0].numpy(), cmap='gray') \n",
    "plt.show()"
   ],
   "id": "f879d3f41e647d29",
   "outputs": [
    {
     "data": {
      "text/plain": [
       "<Figure size 640x480 with 1 Axes>"
      ],
      "image/png": "[encoded data removed]"
     },
     "metadata": {},
     "output_type": "display_data"
    }
   ],
   "execution_count": 10
  },
  {
   "metadata": {
    "ExecuteTime": {
     "end_time": "2025-01-07T14:22:37.467830Z",
     "start_time": "2025-01-07T14:22:37.462829Z"
    }
   },
   "cell_type": "code",
   "source": [
    "def visualize_random_per_class(images, labels):\n",
    "    \"\"\"\n",
    "    Visualize one random example from each label class.\n",
    "\n",
    "    Parameters:\n",
    "    - images: Tensor of images [N, C, H, W]\n",
    "    - labels: Tensor of one-hot encoded labels [N, num_classes]\n",
    "    \"\"\"\n",
    "    # Convert one-hot encoded labels back to integer class indices\n",
    "    label_indices = torch.argmax(labels, dim=1)\n",
    "    \n",
    "    # Get the unique class labels in the dataset\n",
    "    unique_classes = label_indices.unique(sorted=True)\n",
    "    \n",
    "    fig, axes = plt.subplots(1, len(unique_classes), figsize=(15, 3))\n",
    "    \n",
    "    for i, class_value in enumerate(unique_classes):\n",
    "        # Get all indices of the current class\n",
    "        class_indices = (label_indices == class_value).nonzero(as_tuple=True)[0]\n",
    "        \n",
    "        # Select a random index from the current class\n",
    "        random_idx = np.random.choice(class_indices.cpu().numpy())\n",
    "        \n",
    "        # Retrieve the corresponding image and actual label value\n",
    "        image = images[random_idx].squeeze()  # Remove channel dimension\n",
    "        label = class_value.item()  # Convert tensor to Python scalar\n",
    "        \n",
    "        # Plot the image\n",
    "        axes[i].imshow(image, cmap='gray')\n",
    "        axes[i].axis('off')\n",
    "        axes[i].set_title(f\"Label: {label}\")\n",
    "    \n",
    "    plt.tight_layout()\n",
    "    plt.show()\n",
    "    \n",
    "# label_names = {\n",
    "#     0: 'T-shirt/top',\n",
    "#     1: 'Trouser',\n",
    "#     2: 'Pullover',\n",
    "#     3: 'Dress',\n",
    "#     4: 'Coat',\n",
    "#     5: 'Sandal',\n",
    "#     6: 'Shirt',\n",
    "#     7: 'Sneaker',\n",
    "#     8: 'Bag',\n",
    "#     9: 'Ankle boot'\n",
    "# }"
   ],
   "id": "8d42cda40a0b0535",
   "outputs": [],
   "execution_count": 16
  },
  {
   "metadata": {
    "ExecuteTime": {
     "end_time": "2025-01-07T14:22:35.292683Z",
     "start_time": "2025-01-07T14:22:35.004565Z"
    }
   },
   "cell_type": "code",
   "source": "visualize_random_per_class(train_images, train_labels)",
   "id": "b650b15b11549d3b",
   "outputs": [
    {
     "data": {
      "text/plain": [
       "<Figure size 1500x300 with 10 Axes>"
      ],
      "image/png": "[encoded data removed]"
     },
     "metadata": {},
     "output_type": "display_data"
    }
   ],
   "execution_count": 15
  },
  {
   "metadata": {},
   "cell_type": "markdown",
   "source": [
    "## Implementing the Dataset Class\n",
    "In this section, I define a custom `Dataset` class to handle batched and shuffled data for training and validation. The class supports the following functionalities:\n",
    "- Initialization of the dataset with samples, labels, and batch size.\n",
    "- Batch-wise access to data using the `__getitem__` method.\n",
    "- Determining the number of batches using the `__len__` method.\n",
    "- Shuffling the dataset samples and labels using the `shuffle` method.\n"
   ],
   "id": "1499258a0b8b5332"
  },
  {
   "metadata": {
    "ExecuteTime": {
     "end_time": "2025-01-05T20:09:48.119432Z",
     "start_time": "2025-01-05T20:09:48.077794Z"
    }
   },
   "cell_type": "code",
   "source": [
    "class Dataset:\n",
    "    def __init__(self, samples, labels, batch_size):\n",
    "        \"\"\"\n",
    "        Initialize the dataset with samples, labels, and batch size.\n",
    "        \n",
    "        Args:\n",
    "            samples (torch.Tensor): The dataset samples of shape [N, 1, 28, 28].\n",
    "            labels (torch.Tensor): The dataset labels of shape [N, num_classes].\n",
    "            batch_size (int): The number of samples per batch.\n",
    "        \"\"\"\n",
    "        self.samples = samples\n",
    "        self.labels = labels\n",
    "        self.batch_size = batch_size\n",
    "        self.indices = torch.arange(len(samples))  # Initialize indices for deterministic access\n",
    "    \n",
    "    def __getitem__(self, index):\n",
    "        \"\"\"\n",
    "        Return the batch of samples and labels corresponding to the given index.\n",
    "        \n",
    "        Args:\n",
    "            index (int): The batch index.\n",
    "            \n",
    "        Returns:\n",
    "            batch_samples (torch.Tensor): The batch samples of shape [batch_size, 1, 28, 28].\n",
    "            batch_labels (torch.Tensor): The batch labels of shape [batch_size, num_classes].\n",
    "        \"\"\"\n",
    "        start_idx = index * self.batch_size\n",
    "        end_idx = min(start_idx + self.batch_size, len(self.samples))  # Handle last batch\n",
    "        batch_indices = self.indices[start_idx:end_idx]\n",
    "        return self.samples[batch_indices], self.labels[batch_indices]\n",
    "    \n",
    "    def __len__(self):\n",
    "        \"\"\"\n",
    "        Return the number of batches in the dataset.\n",
    "        \n",
    "        Returns:\n",
    "            int: The number of batches.\n",
    "        \"\"\"\n",
    "        return (len(self.samples) + self.batch_size - 1) // self.batch_size  # Ceiling division\n",
    "    \n",
    "    def shuffle(self):\n",
    "        \"\"\"\n",
    "        Shuffle the dataset samples and labels by permuting the indices.\n",
    "        \"\"\"\n",
    "        self.indices = torch.randperm(len(self.samples))\n",
    "\n",
    "train_dataset = Dataset(train_images, train_labels, batch_size=64)\n",
    "val_dataset = Dataset(val_images, val_labels, batch_size=64)"
   ],
   "id": "cb66049028b36695",
   "outputs": [],
   "execution_count": 59
  },
  {
   "metadata": {
    "ExecuteTime": {
     "end_time": "2025-01-05T20:09:49.891533Z",
     "start_time": "2025-01-05T20:09:49.879052Z"
    }
   },
   "cell_type": "code",
   "source": [
    "batch1_a, labels1_a = train_dataset[1]\n",
    "batch1_b, labels1_b = train_dataset[1]\n",
    "assert torch.equal(batch1_a, batch1_b) and torch.equal(labels1_a, labels1_b), \"Batches are not deterministic!\"\n",
    "print(\"Determinism confirmed!\")"
   ],
   "id": "8c6870fe53c19184",
   "outputs": [
    {
     "name": "stdout",
     "output_type": "stream",
     "text": [
      "Determinism confirmed!\n"
     ]
    }
   ],
   "execution_count": 60
  },
  {
   "metadata": {},
   "cell_type": "markdown",
   "source": [
    "### Visualize the data\n",
    "Visualization of 16 samples from a batch belonging to the training dataset and their corresponding class labels."
   ],
   "id": "9c7580830b7c2606"
  },
  {
   "metadata": {
    "ExecuteTime": {
     "end_time": "2025-01-05T20:09:51.450784Z",
     "start_time": "2025-01-05T20:09:51.439490Z"
    }
   },
   "cell_type": "code",
   "source": [
    "num_train_batches = len(train_dataset)\n",
    "print(f\"Number of batches in the training dataset: {num_train_batches}\")\n",
    "\n",
    "num_val_batches = len(val_dataset)\n",
    "print(f\"Number of batches in the validation dataset: {num_val_batches}\")"
   ],
   "id": "5cd274e6563a48d8",
   "outputs": [
    {
     "name": "stdout",
     "output_type": "stream",
     "text": [
      "Number of batches in the training dataset: 750\n",
      "Number of batches in the validation dataset: 188\n"
     ]
    }
   ],
   "execution_count": 61
  },
  {
   "metadata": {
    "ExecuteTime": {
     "end_time": "2025-01-05T20:09:52.677384Z",
     "start_time": "2025-01-05T20:09:52.668526Z"
    }
   },
   "cell_type": "code",
   "source": [
    "print(f\"Unique train labels: {np.unique(train_labels)}\")\n",
    "print(f\"Unique test labels: {np.unique(test_labels)}\")"
   ],
   "id": "9f2a67ea44527978",
   "outputs": [
    {
     "name": "stdout",
     "output_type": "stream",
     "text": [
      "Unique train labels: [0. 1.]\n",
      "Unique test labels: [0. 1.]\n"
     ]
    }
   ],
   "execution_count": 62
  },
  {
   "metadata": {
    "ExecuteTime": {
     "end_time": "2025-01-05T20:14:37.574912Z",
     "start_time": "2025-01-05T20:14:36.846429Z"
    }
   },
   "cell_type": "code",
   "source": [
    "label_names = {\n",
    "    0: 'T-shirt/top',\n",
    "    1: 'Trouser',\n",
    "    2: 'Pullover',\n",
    "    3: 'Dress',\n",
    "    4: 'Coat',\n",
    "    5: 'Sandal',\n",
    "    6: 'Shirt',\n",
    "    7: 'Sneaker',\n",
    "    8: 'Bag',\n",
    "    9: 'Ankle boot'\n",
    "}\n",
    "\n",
    "batch_samples, batch_labels = train_dataset[0]\n",
    "\n",
    "images = batch_samples[:16].squeeze(1).numpy()\n",
    "labels = torch.argmax(batch_labels[:16], dim=1).numpy()\n",
    "\n",
    "fig, axes = plt.subplots(4, 4, figsize=(8, 8))\n",
    "fig.suptitle(\"16 Samples from Training Dataset\", fontsize=16)\n",
    "\n",
    "for i, ax in enumerate(axes.flatten()):\n",
    "    ax.imshow(images[i], cmap=\"gray\")\n",
    "    ax.set_title(f\"{label_names[labels[i]]}\")\n",
    "    ax.axis(\"off\")\n",
    "\n",
    "plt.tight_layout()\n",
    "plt.show()"
   ],
   "id": "6f4576159619fce1",
   "outputs": [
    {
     "data": {
      "text/plain": [
       "<Figure size 800x800 with 16 Axes>"
      ],
      "image/png": "[encoded data removed]"
     },
     "metadata": {},
     "output_type": "display_data"
    }
   ],
   "execution_count": 68
  },
  {
   "metadata": {},
   "cell_type": "markdown",
   "source": "",
   "id": "8a10ac1602cb1979"
  },
  {
   "metadata": {},
   "cell_type": "markdown",
   "source": [
    "### Implementing Basic Operations for Neural Networks\n",
    "This section implements three foundational operations for our neural network:\n",
    "- 2D Convolution: A manual implementation of convolution to extract spatial features.\n",
    "- 2D Max Pooling: A manual downsampling of input using a sliding window.\n",
    "- ReLU Activation: A straightforward implementation of the Rectified Linear Unit (ReLU) function."
   ],
   "id": "5986e64e5e64ae5f"
  },
  {
   "metadata": {},
   "cell_type": "code",
   "outputs": [],
   "execution_count": null,
   "source": [
    "class Conv2d(nn.Module):\n",
    "    def __init__(self, in_channels, out_channels, kernel_size, stride=1):\n",
    "        super().__init__()\n",
    "        self.in_channels = in_channels\n",
    "        self.out_channels = out_channels\n",
    "        self.kernel_size = kernel_size\n",
    "        self.stride = stride\n",
    "\n",
    "        self.weight = nn.Parameter(torch.randn(out_channels, in_channels, kernel_size, kernel_size))\n",
    "        self.bias = nn.Parameter(torch.zeros(out_channels))\n",
    "\n",
    "    def forward(self, x):\n",
    "        batch_size, _, height, width = x.shape\n",
    "        out_height = (height - self.kernel_size) // self.stride + 1\n",
    "        out_width = (width - self.kernel_size) // self.stride + 1\n",
    "        output = torch.zeros((batch_size, self.out_channels, out_height, out_width), device=x.device)\n",
    "\n",
    "        for b in range(batch_size):\n",
    "            for o in range(self.out_channels):\n",
    "                for i in range(out_height):\n",
    "                    for j in range(out_width):\n",
    "                        h_start = i * self.stride\n",
    "                        h_end = h_start + self.kernel_size\n",
    "                        w_start = j * self.stride\n",
    "                        w_end = w_start + self.kernel_size\n",
    "                        patch = x[b, :, h_start:h_end, w_start:w_end]\n",
    "                        output[b, o, i, j] = (patch * self.weight[o]).sum() + self.bias[o]\n",
    "        return output"
   ],
   "id": "7f3c7559e095d68c"
  },
  {
   "metadata": {},
   "cell_type": "code",
   "outputs": [],
   "execution_count": null,
   "source": [
    "class MaxPool2d(nn.Module):\n",
    "    def __init__(self, kernel_size, stride=None):\n",
    "        super().__init__()\n",
    "        self.kernel_size = kernel_size\n",
    "        self.stride = stride if stride else kernel_size\n",
    "\n",
    "    def forward(self, x):\n",
    "        batch_size, channels, height, width = x.shape\n",
    "        out_height = (height - self.kernel_size) // self.stride + 1\n",
    "        out_width = (width - self.kernel_size) // self.stride + 1\n",
    "        output = torch.zeros((batch_size, channels, out_height, out_width), device=x.device)\n",
    "\n",
    "        for b in range(batch_size):\n",
    "            for c in range(channels):\n",
    "                for i in range(out_height):\n",
    "                    for j in range(out_width):\n",
    "                        h_start = i * self.stride\n",
    "                        h_end = h_start + self.kernel_size\n",
    "                        w_start = j * self.stride\n",
    "                        w_end = w_start + self.kernel_size\n",
    "                        patch = x[b, c, h_start:h_end, w_start:w_end]\n",
    "                        output[b, c, i, j] = patch.max()\n",
    "        return output"
   ],
   "id": "b82051a7c1f3226d"
  },
  {
   "metadata": {},
   "cell_type": "code",
   "outputs": [],
   "execution_count": null,
   "source": [
    "class ReLU(nn.Module):\n",
    "    def __init__(self):\n",
    "        super().__init__()\n",
    "\n",
    "    def forward(self, x):\n",
    "        return torch.maximum(x, torch.tensor(0.0, device=x.device))"
   ],
   "id": "811600540e1df39e"
  }
 ],
 "metadata": {
  "kernelspec": {
   "display_name": "Python 3",
   "language": "python",
   "name": "python3"
  },
  "language_info": {
   "codemirror_mode": {
    "name": "ipython",
    "version": 2
   },
   "file_extension": ".py",
   "mimetype": "text/x-python",
   "name": "python",
   "nbconvert_exporter": "python",
   "pygments_lexer": "ipython2",
   "version": "2.7.6"
  }
 },
 "nbformat": 4,
 "nbformat_minor": 5
}
