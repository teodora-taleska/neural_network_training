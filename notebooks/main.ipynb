{
 "cells": [
  {
   "metadata": {},
   "cell_type": "markdown",
   "source": [
    "# Fashion-MNIST Custom Neural Network Training\n",
    "University of Ljubljana, Faculty of Computer and Information Science\n",
    "Course: Machine Learning, 2024-2025\n",
    "\n",
    "Teodora Taleska"
   ],
   "id": "1b31157bddb445e3"
  },
  {
   "metadata": {},
   "cell_type": "markdown",
   "source": "## Environment Setup",
   "id": "3cc41436ca221f45"
  },
  {
   "metadata": {
    "ExecuteTime": {
     "end_time": "2025-01-12T16:41:04.360730Z",
     "start_time": "2025-01-12T16:41:00.049921Z"
    }
   },
   "cell_type": "code",
   "source": [
    "import torch\n",
    "import gzip\n",
    "import numpy as np\n",
    "import matplotlib.pyplot as plt\n",
    "import torch.nn.functional as F\n",
    "from sklearn.model_selection import train_test_split\n",
    "import torch.nn as nn\n",
    "import torch.optim as optim\n",
    "from helpers import performance"
   ],
   "id": "89e710c56eda0cc1",
   "outputs": [],
   "execution_count": 2
  },
  {
   "metadata": {
    "ExecuteTime": {
     "end_time": "2025-01-12T16:41:06.066938Z",
     "start_time": "2025-01-12T16:41:04.369331Z"
    }
   },
   "cell_type": "code",
   "source": [
    "device = torch.device('cuda' if torch.cuda.is_available() else 'cpu')\n",
    "device"
   ],
   "id": "384a2a59bbe724ff",
   "outputs": [
    {
     "data": {
      "text/plain": [
       "device(type='cuda')"
      ]
     },
     "execution_count": 3,
     "metadata": {},
     "output_type": "execute_result"
    }
   ],
   "execution_count": 3
  },
  {
   "metadata": {},
   "cell_type": "markdown",
   "source": [
    "## Load the Data\n",
    "\n",
    "Load the Fashion-MNIST dataset from the official Fashion-MNIST GitHub repository using the `utils.mnist_reader` module. The dataset consists of 60,000 training samples, each belonging to one of 10 fashion-related classes. Then, normalize the training sample values to the range [0, 1] and visualize one random member from each of the 10 classes.\n"
   ],
   "id": "55ecaa41e66712d9"
  },
  {
   "metadata": {
    "ExecuteTime": {
     "end_time": "2025-01-12T16:41:07.513283Z",
     "start_time": "2025-01-12T16:41:07.249317Z"
    }
   },
   "cell_type": "code",
   "source": [
    "def load_mnist_images(filename):\n",
    "    with gzip.open(filename, 'rb') as f:\n",
    "        data = np.frombuffer(f.read(), np.uint8, offset=16).reshape(-1, 28, 28)\n",
    "    return data\n",
    "\n",
    "def load_mnist_labels(filename):\n",
    "    with gzip.open(filename, 'rb') as f:\n",
    "        data = np.frombuffer(f.read(), np.uint8, offset=8)\n",
    "    return data\n",
    "\n",
    "train_images = load_mnist_images('../data/fashion/train-images-idx3-ubyte.gz')\n",
    "train_labels = load_mnist_labels('../data/fashion/train-labels-idx1-ubyte.gz')\n",
    "test_images = load_mnist_images('../data/fashion/t10k-images-idx3-ubyte.gz')\n",
    "test_labels = load_mnist_labels('../data/fashion/t10k-labels-idx1-ubyte.gz')\n",
    "\n",
    "print(f\"Train images shape: {train_images.shape}\")\n",
    "print(f\"Train labels shape: {train_labels.shape}\")\n",
    "\n",
    "print(f\"Test images shape: {test_images.shape}\")\n",
    "print(f\"Test labels shape: {test_labels.shape}\")"
   ],
   "id": "6149d699a41d8e9f",
   "outputs": [
    {
     "name": "stdout",
     "output_type": "stream",
     "text": [
      "Train images shape: (60000, 28, 28)\n",
      "Train labels shape: (60000,)\n",
      "Test images shape: (10000, 28, 28)\n",
      "Test labels shape: (10000,)\n"
     ]
    }
   ],
   "execution_count": 4
  },
  {
   "metadata": {},
   "cell_type": "markdown",
   "source": [
    "### Normalize the Data\n",
    "\n",
    "After loading the data, normalize the pixel values of the training samples to the range [0, 1]. This step ensures that all features are on a consistent scale, making them suitable for use in neural network model. The normalization is performed by dividing each pixel value by 255, which is the maximum possible intensity in the dataset."
   ],
   "id": "d76f4788b7ed17b2"
  },
  {
   "metadata": {
    "ExecuteTime": {
     "end_time": "2025-01-12T16:41:08.810831Z",
     "start_time": "2025-01-12T16:41:08.687898Z"
    }
   },
   "cell_type": "code",
   "source": [
    "train_images, val_images, train_labels, val_labels = train_test_split(\n",
    "    train_images, train_labels, test_size=0.2, random_state=42\n",
    ")\n",
    "\n",
    "# reshaping images to [N, 1, 28, 28] and convert to PyTorch tensors\n",
    "train_images = torch.tensor(train_images, dtype=torch.float32).unsqueeze(1) / 255.0\n",
    "val_images = torch.tensor(val_images, dtype=torch.float32).unsqueeze(1) / 255.0\n",
    "test_images = torch.tensor(test_images, dtype=torch.float32).unsqueeze(1) / 255.0\n",
    "\n",
    "# convert labels to integer class indices before one-hot encoding\n",
    "train_labels = torch.tensor(train_labels, dtype=torch.long)\n",
    "val_labels = torch.tensor(val_labels, dtype=torch.long)\n",
    "test_labels = torch.tensor(test_labels, dtype=torch.long)\n",
    "\n",
    "train_labels = F.one_hot(train_labels, num_classes=10).float()\n",
    "val_labels = F.one_hot(val_labels, num_classes=10).float()\n",
    "test_labels = F.one_hot(test_labels, num_classes=10).float()\n",
    "\n",
    "print(f\"Train images shape: {train_images.shape}, Train labels shape: {train_labels.shape}\")\n",
    "print(f\"Validation images shape: {val_images.shape}, Validation labels shape: {val_labels.shape}\")\n",
    "print(f\"Test images shape: {test_images.shape}, Test labels shape: {test_labels.shape}\")"
   ],
   "id": "7744c4a1fa6ae0db",
   "outputs": [
    {
     "name": "stdout",
     "output_type": "stream",
     "text": [
      "Train images shape: torch.Size([48000, 1, 28, 28]), Train labels shape: torch.Size([48000, 10])\n",
      "Validation images shape: torch.Size([12000, 1, 28, 28]), Validation labels shape: torch.Size([12000, 10])\n",
      "Test images shape: torch.Size([10000, 1, 28, 28]), Test labels shape: torch.Size([10000, 10])\n"
     ]
    }
   ],
   "execution_count": 5
  },
  {
   "metadata": {
    "ExecuteTime": {
     "end_time": "2025-01-12T16:41:11.316630Z",
     "start_time": "2025-01-12T16:41:10.628235Z"
    }
   },
   "cell_type": "code",
   "source": [
    "# transferring the data to the available device (GPU or CPU)\n",
    "train_images = train_images.to(device)\n",
    "val_images = val_images.to(device)\n",
    "test_images = test_images.to(device)\n",
    "\n",
    "train_labels = train_labels.to(device)\n",
    "val_labels = val_labels.to(device)\n",
    "test_labels = test_labels.to(device)\n",
    "\n",
    "print('Data transferred to device.', device)\n",
    "print(f\"Train images device: {train_images.device}\")"
   ],
   "id": "8042622a4bc135fd",
   "outputs": [
    {
     "name": "stdout",
     "output_type": "stream",
     "text": [
      "Data transferred to device. cuda\n",
      "Train images device: cuda:0\n"
     ]
    }
   ],
   "execution_count": 6
  },
  {
   "metadata": {},
   "cell_type": "markdown",
   "source": [
    "### Visualization\n",
    "Visualization of one random member from each of the 10 classes in the training dataset."
   ],
   "id": "ad512dbb350d0236"
  },
  {
   "metadata": {
    "ExecuteTime": {
     "end_time": "2025-01-11T16:09:09.480592Z",
     "start_time": "2025-01-11T16:09:08.673684Z"
    }
   },
   "cell_type": "code",
   "source": [
    "# accessing the first image - single channel\n",
    "plt.imshow(train_images[0, 0].cpu().numpy(), cmap='gray') \n",
    "plt.show()"
   ],
   "id": "f879d3f41e647d29",
   "outputs": [
    {
     "data": {
      "text/plain": [
       "<Figure size 640x480 with 1 Axes>"
      ],
      "image/png": "[encoded data removed]"
     },
     "metadata": {},
     "output_type": "display_data"
    }
   ],
   "execution_count": 29
  },
  {
   "metadata": {
    "ExecuteTime": {
     "end_time": "2025-01-12T16:10:13.859225Z",
     "start_time": "2025-01-12T16:10:13.853120Z"
    }
   },
   "cell_type": "code",
   "source": [
    "def visualize_random_per_class(images, labels):\n",
    "    \"\"\"\n",
    "    Visualize one random example from each label class.\n",
    "\n",
    "    Parameters:\n",
    "    - images: Tensor of images [N, C, H, W]\n",
    "    - labels: Tensor of one-hot encoded labels [N, num_classes]\n",
    "    \"\"\"\n",
    "    # Convert one-hot encoded labels back to integer class indices\n",
    "    label_indices = torch.argmax(labels, dim=1)\n",
    "    \n",
    "    # Get the unique class labels in the dataset\n",
    "    unique_classes = label_indices.unique(sorted=True)\n",
    "    \n",
    "    fig, axes = plt.subplots(1, len(unique_classes), figsize=(15, 3))\n",
    "    \n",
    "    for i, class_value in enumerate(unique_classes):\n",
    "        # Get all indices of the current class\n",
    "        class_indices = (label_indices == class_value).nonzero(as_tuple=True)[0]\n",
    "        \n",
    "        # Select a random index from the current class\n",
    "        random_idx = np.random.choice(class_indices.cpu().numpy())\n",
    "        \n",
    "        # Retrieve the corresponding image and actual label value\n",
    "        image = images[random_idx].squeeze()  # Remove channel dimension\n",
    "        label = class_value.item()  # Convert tensor to Python scalar\n",
    "        \n",
    "        axes[i].imshow(image.cpu().numpy(), cmap='gray')\n",
    "        axes[i].axis('off')\n",
    "        axes[i].set_title(f\"Label: {label}\")\n",
    "    \n",
    "    plt.tight_layout()\n",
    "    plt.show()"
   ],
   "id": "8d42cda40a0b0535",
   "outputs": [],
   "execution_count": 6
  },
  {
   "metadata": {
    "ExecuteTime": {
     "end_time": "2025-01-11T16:10:44.634080Z",
     "start_time": "2025-01-11T16:10:44.345476Z"
    }
   },
   "cell_type": "code",
   "source": "visualize_random_per_class(train_images, train_labels)",
   "id": "b650b15b11549d3b",
   "outputs": [
    {
     "data": {
      "text/plain": [
       "<Figure size 1500x300 with 10 Axes>"
      ],
      "image/png": "[encoded data removed]"
     },
     "metadata": {},
     "output_type": "display_data"
    }
   ],
   "execution_count": 33
  },
  {
   "metadata": {},
   "cell_type": "markdown",
   "source": [
    "## Implementing the Dataset Class\n",
    "In this section, I define a custom `Dataset` class to handle batched and shuffled data for training and validation. The class supports the following functionalities:\n",
    "- Initialization of the dataset with samples, labels, and batch size.\n",
    "- Batch-wise access to data using the `__getitem__` method.\n",
    "- Determining the number of batches using the `__len__` method.\n",
    "- Shuffling the dataset samples and labels using the `shuffle` method.\n"
   ],
   "id": "1499258a0b8b5332"
  },
  {
   "metadata": {
    "ExecuteTime": {
     "end_time": "2025-01-12T16:41:15.013753Z",
     "start_time": "2025-01-12T16:41:15.005238Z"
    }
   },
   "cell_type": "code",
   "source": [
    "class Dataset:\n",
    "    def __init__(self, samples, labels, batch_size):\n",
    "        \"\"\"\n",
    "        Initialize the dataset with samples, labels, and batch size.\n",
    "        \n",
    "        Args:\n",
    "            samples (torch.Tensor): The dataset samples of shape [N, 1, 28, 28].\n",
    "            labels (torch.Tensor): The dataset labels of shape [N, num_classes].\n",
    "            batch_size (int): The number of samples per batch.\n",
    "        \"\"\"\n",
    "        self.samples = samples\n",
    "        self.labels = labels\n",
    "        self.batch_size = batch_size\n",
    "        self.indices = torch.arange(len(samples))  # Initialize indices for deterministic access\n",
    "    \n",
    "    def __getitem__(self, index):\n",
    "        \"\"\"\n",
    "        Return the batch of samples and labels corresponding to the given index.\n",
    "        \n",
    "        Args:\n",
    "            index (int): The batch index.\n",
    "            \n",
    "        Returns:\n",
    "            batch_samples (torch.Tensor): The batch samples of shape [batch_size, 1, 28, 28].\n",
    "            batch_labels (torch.Tensor): The batch labels of shape [batch_size, num_classes].\n",
    "        \"\"\"\n",
    "        start_idx = index * self.batch_size\n",
    "        end_idx = min(start_idx + self.batch_size, len(self.samples))  # Handle last batch\n",
    "        batch_indices = self.indices[start_idx:end_idx]\n",
    "        return self.samples[batch_indices], self.labels[batch_indices]\n",
    "    \n",
    "    def __len__(self):\n",
    "        \"\"\"\n",
    "        Return the number of batches in the dataset.\n",
    "        \n",
    "        Returns:\n",
    "            int: The number of batches.\n",
    "        \"\"\"\n",
    "        return (len(self.samples) + self.batch_size - 1) // self.batch_size\n",
    "    \n",
    "    def shuffle(self):\n",
    "        \"\"\"\n",
    "        Shuffle the dataset samples and labels by permuting the indices.\n",
    "        \"\"\"\n",
    "        self.indices = torch.randperm(len(self.samples))\n",
    "\n",
    "train_dataset = Dataset(train_images, train_labels, batch_size=64)\n",
    "val_dataset = Dataset(val_images, val_labels, batch_size=64)"
   ],
   "id": "cb66049028b36695",
   "outputs": [],
   "execution_count": 7
  },
  {
   "metadata": {
    "ExecuteTime": {
     "end_time": "2025-01-11T17:53:01.678187Z",
     "start_time": "2025-01-11T17:53:01.620653Z"
    }
   },
   "cell_type": "code",
   "source": [
    "batch1_a, labels1_a = train_dataset[1]\n",
    "batch1_b, labels1_b = train_dataset[1]\n",
    "assert torch.equal(batch1_a, batch1_b) and torch.equal(labels1_a, labels1_b), \"Batches are not deterministic!\"\n",
    "print(\"Determinism confirmed!\")"
   ],
   "id": "8c6870fe53c19184",
   "outputs": [
    {
     "name": "stdout",
     "output_type": "stream",
     "text": [
      "Determinism confirmed!\n"
     ]
    }
   ],
   "execution_count": 7
  },
  {
   "metadata": {},
   "cell_type": "markdown",
   "source": [
    "### Visualize the data\n",
    "Visualization of 16 samples from a batch belonging to the training dataset and their corresponding class labels."
   ],
   "id": "9c7580830b7c2606"
  },
  {
   "metadata": {
    "ExecuteTime": {
     "end_time": "2025-01-11T16:10:55.394054Z",
     "start_time": "2025-01-11T16:10:55.385583Z"
    }
   },
   "cell_type": "code",
   "source": [
    "num_train_batches = len(train_dataset)\n",
    "print(f\"Number of batches in the training dataset: {num_train_batches}\")\n",
    "\n",
    "num_val_batches = len(val_dataset)\n",
    "print(f\"Number of batches in the validation dataset: {num_val_batches}\")"
   ],
   "id": "5cd274e6563a48d8",
   "outputs": [
    {
     "name": "stdout",
     "output_type": "stream",
     "text": [
      "Number of batches in the training dataset: 750\n",
      "Number of batches in the validation dataset: 188\n"
     ]
    }
   ],
   "execution_count": 36
  },
  {
   "metadata": {
    "ExecuteTime": {
     "end_time": "2025-01-11T16:11:29.400236Z",
     "start_time": "2025-01-11T16:11:28.988929Z"
    }
   },
   "cell_type": "code",
   "source": [
    "print(f\"Unique train labels: {torch.unique(train_labels)}\")\n",
    "print(f\"Unique test labels: {torch.unique(test_labels)}\")"
   ],
   "id": "9f2a67ea44527978",
   "outputs": [
    {
     "name": "stdout",
     "output_type": "stream",
     "text": [
      "Unique train labels: tensor([0., 1.], device='cuda:0')\n",
      "Unique test labels: tensor([0., 1.], device='cuda:0')\n"
     ]
    }
   ],
   "execution_count": 39
  },
  {
   "metadata": {
    "ExecuteTime": {
     "end_time": "2025-01-11T16:11:45.148863Z",
     "start_time": "2025-01-11T16:11:44.667661Z"
    }
   },
   "cell_type": "code",
   "source": [
    "label_names = {\n",
    "    0: 'T-shirt/top',\n",
    "    1: 'Trouser',\n",
    "    2: 'Pullover',\n",
    "    3: 'Dress',\n",
    "    4: 'Coat',\n",
    "    5: 'Sandal',\n",
    "    6: 'Shirt',\n",
    "    7: 'Sneaker',\n",
    "    8: 'Bag',\n",
    "    9: 'Ankle boot'\n",
    "}\n",
    "\n",
    "batch_samples, batch_labels = train_dataset[0]\n",
    "\n",
    "images = batch_samples[:16].squeeze(1).cpu().numpy()\n",
    "labels = torch.argmax(batch_labels[:16], dim=1).cpu().numpy()\n",
    "\n",
    "fig, axes = plt.subplots(4, 4, figsize=(8, 8))\n",
    "fig.suptitle(\"16 Samples from Training Dataset\", fontsize=16)\n",
    "\n",
    "for i, ax in enumerate(axes.flatten()):\n",
    "    ax.imshow(images[i], cmap=\"gray\")\n",
    "    ax.set_title(f\"{label_names[labels[i]]}\")\n",
    "    ax.axis(\"off\")\n",
    "\n",
    "plt.tight_layout()\n",
    "plt.show()"
   ],
   "id": "6f4576159619fce1",
   "outputs": [
    {
     "data": {
      "text/plain": [
       "<Figure size 800x800 with 16 Axes>"
      ],
      "image/png": "[encoded data removed]"
     },
     "metadata": {},
     "output_type": "display_data"
    }
   ],
   "execution_count": 41
  },
  {
   "metadata": {},
   "cell_type": "markdown",
   "source": "",
   "id": "8a10ac1602cb1979"
  },
  {
   "metadata": {},
   "cell_type": "markdown",
   "source": [
    "### Implementing Basic Operations for Neural Networks\n",
    "This section implements three foundational operations for our neural network:\n",
    "- 2D Convolution: A manual implementation of convolution to extract spatial features.\n",
    "- 2D Max Pooling: A manual downsampling of input using a sliding window.\n",
    "- ReLU Activation: A straightforward implementation of the Rectified Linear Unit (ReLU) function."
   ],
   "id": "5986e64e5e64ae5f"
  },
  {
   "metadata": {
    "ExecuteTime": {
     "end_time": "2025-01-12T16:49:22.450513Z",
     "start_time": "2025-01-12T16:49:22.444197Z"
    }
   },
   "cell_type": "code",
   "source": [
    "class Conv2d(nn.Module):\n",
    "    def __init__(self, in_channels, out_channels, kernel_size, stride=1):\n",
    "        super().__init__()\n",
    "        self.in_channels = in_channels\n",
    "        self.out_channels = out_channels\n",
    "        self.kernel_size = kernel_size\n",
    "        self.stride = stride\n",
    "\n",
    "        self.weight = nn.Parameter(torch.randn(out_channels, in_channels, kernel_size, kernel_size))\n",
    "        self.bias = nn.Parameter(torch.zeros(out_channels))\n",
    "\n",
    "    def forward(self, x):\n",
    "        # Ensure input has the correct shape\n",
    "        if x.dim() == 3:  # Add channel dimension for grayscale input\n",
    "            x = x.unsqueeze(1)\n",
    "\n",
    "        # Extract patches using unfold\n",
    "        patches = F.unfold(x, kernel_size=self.kernel_size, stride=self.stride)  # [batch_size, in_channels * kernel_size^2, L]\n",
    "        patches = patches.transpose(1, 2)  # [batch_size, L, in_channels * kernel_size^2]\n",
    "\n",
    "        # Reshape weight for matrix multiplication\n",
    "        weight = self.weight.view(self.out_channels, -1).t()  # [in_channels * kernel_size^2, out_channels]\n",
    "\n",
    "        # Perform matrix multiplication and add bias\n",
    "        output = patches @ weight + self.bias  # [batch_size, L, out_channels]\n",
    "\n",
    "        # Reshape to [batch_size, out_channels, out_height, out_width]\n",
    "        out_height = (x.size(2) - self.kernel_size) // self.stride + 1\n",
    "        out_width = (x.size(3) - self.kernel_size) // self.stride + 1\n",
    "        output = output.transpose(1, 2).view(x.size(0), self.out_channels, out_height, out_width)\n",
    "\n",
    "        return output"
   ],
   "id": "7f3c7559e095d68c",
   "outputs": [],
   "execution_count": 30
  },
  {
   "metadata": {
    "ExecuteTime": {
     "end_time": "2025-01-12T16:49:59.171297Z",
     "start_time": "2025-01-12T16:49:59.164291Z"
    }
   },
   "cell_type": "code",
   "source": [
    "class MaxPool2d(nn.Module):\n",
    "    def __init__(self, kernel_size, stride=None):\n",
    "        super().__init__()\n",
    "        self.kernel_size = kernel_size\n",
    "        self.stride = stride if stride else kernel_size\n",
    "\n",
    "    def forward(self, x):\n",
    "        # Ensure input has the correct shape\n",
    "        if x.dim() == 3:  # Add channel dimension for grayscale input\n",
    "            x = x.unsqueeze(1)\n",
    "\n",
    "        # Extract patches using unfold\n",
    "        patches = F.unfold(x, kernel_size=self.kernel_size, stride=self.stride)  # [batch_size, channels * kernel_size^2, L]\n",
    "        \n",
    "        # Reshape to [batch_size, channels, kernel_size^2, L]\n",
    "        patches = patches.view(\n",
    "            x.size(0), x.size(1), self.kernel_size * self.kernel_size, -1\n",
    "        )\n",
    "\n",
    "        # Max over the kernel dimensions\n",
    "        output = patches.max(dim=2).values  # [batch_size, channels, L]\n",
    "\n",
    "        # Reshape to [batch_size, channels, out_height, out_width]\n",
    "        out_height = (x.size(2) - self.kernel_size) // self.stride + 1\n",
    "        out_width = (x.size(3) - self.kernel_size) // self.stride + 1\n",
    "        output = output.view(x.size(0), x.size(1), out_height, out_width)\n",
    "\n",
    "        return output"
   ],
   "id": "b82051a7c1f3226d",
   "outputs": [],
   "execution_count": 31
  },
  {
   "metadata": {
    "ExecuteTime": {
     "end_time": "2025-01-12T16:50:03.899279Z",
     "start_time": "2025-01-12T16:50:03.893305Z"
    }
   },
   "cell_type": "code",
   "source": [
    "class ReLU(nn.Module):\n",
    "    def __init__(self):\n",
    "        super().__init__()\n",
    "\n",
    "    def forward(self, x):\n",
    "        return torch.maximum(x, torch.tensor(0.0, device=x.device))"
   ],
   "id": "811600540e1df39e",
   "outputs": [],
   "execution_count": 32
  },
  {
   "metadata": {},
   "cell_type": "markdown",
   "source": "### Testing the basic manually implemented operations and comparing them with PyTorch's built-in implementations on the first batch of the training dataset.",
   "id": "9f122e6f57bf816a"
  },
  {
   "metadata": {
    "ExecuteTime": {
     "end_time": "2025-01-12T16:50:05.376499Z",
     "start_time": "2025-01-12T16:50:05.371084Z"
    }
   },
   "cell_type": "code",
   "source": "x, y = train_dataset[0]",
   "id": "b0a43f7eb8624c74",
   "outputs": [],
   "execution_count": 33
  },
  {
   "metadata": {
    "ExecuteTime": {
     "end_time": "2025-01-12T16:50:07.635673Z",
     "start_time": "2025-01-12T16:50:07.631610Z"
    }
   },
   "cell_type": "code",
   "source": "print(x.device)",
   "id": "fd73ef2cfc3d3a",
   "outputs": [
    {
     "name": "stdout",
     "output_type": "stream",
     "text": [
      "cuda:0\n"
     ]
    }
   ],
   "execution_count": 34
  },
  {
   "metadata": {},
   "cell_type": "markdown",
   "source": [
    "### Testing the functions in a sequential manner and comparing them with PyTorch's built-in implementations.\n",
    "Custom layers"
   ],
   "id": "42d2e0f26e3d647f"
  },
  {
   "metadata": {
    "ExecuteTime": {
     "end_time": "2025-01-12T16:50:10.257630Z",
     "start_time": "2025-01-12T16:50:10.234426Z"
    }
   },
   "cell_type": "code",
   "source": [
    "# Initialization\n",
    "conv = Conv2d(in_channels=1, out_channels=16, kernel_size=3).to(device)\n",
    "pool = MaxPool2d(kernel_size=2).to(device)\n",
    "relu = ReLU().to(device)\n",
    "\n",
    "# Forward pass\n",
    "output_conv = conv(x)\n",
    "output_pool = pool(output_conv)\n",
    "output_relu = relu(output_pool)"
   ],
   "id": "94335610e7ab97e4",
   "outputs": [],
   "execution_count": 35
  },
  {
   "metadata": {},
   "cell_type": "markdown",
   "source": "PyTorch layers",
   "id": "b4c99b2d92ed1674"
  },
  {
   "metadata": {
    "ExecuteTime": {
     "end_time": "2025-01-12T16:50:11.859824Z",
     "start_time": "2025-01-12T16:50:11.851905Z"
    }
   },
   "cell_type": "code",
   "source": [
    "# Initialization\n",
    "conv_pytorch = nn.Conv2d(1, 16, kernel_size=3).to(device)\n",
    "pool_pytorch = nn.MaxPool2d(kernel_size=2).to(device)\n",
    "relu_pytorch = nn.ReLU().to(device)\n",
    "\n",
    "conv_pytorch.weight.data = conv.weight.data\n",
    "conv_pytorch.bias.data = conv.bias.data\n",
    "\n",
    "# Forward pass\n",
    "output_conv_pytorch = conv_pytorch(x)\n",
    "output_pool_pytorch = pool_pytorch(output_conv_pytorch)\n",
    "output_relu_pytorch = relu_pytorch(output_pool_pytorch)"
   ],
   "id": "73277b4dd3b8a018",
   "outputs": [],
   "execution_count": 36
  },
  {
   "metadata": {
    "ExecuteTime": {
     "end_time": "2025-01-12T16:50:13.182690Z",
     "start_time": "2025-01-12T16:50:13.162694Z"
    }
   },
   "cell_type": "code",
   "source": [
    "conv_diff = torch.abs(output_conv - output_conv_pytorch).max()\n",
    "pool_diff = torch.abs(output_pool - output_pool_pytorch).max()\n",
    "relu_diff = torch.abs(output_relu - output_relu_pytorch).max()\n",
    "\n",
    "print(f\"Convolution difference: {conv_diff.item():.6f}\")\n",
    "print(f\"Pooling difference: {pool_diff.item():.6f}\")\n",
    "print(f\"ReLU difference: {relu_diff.item():.6f}\")\n",
    "\n",
    "if conv_diff < 1e-5 and pool_diff < 1e-5 and relu_diff < 1e-5:\n",
    "    print(\"Test passed: The outputs are very close!\")\n",
    "else:\n",
    "    print(\"Test failed: There is a noticeable difference.\")"
   ],
   "id": "874209da78f7782",
   "outputs": [
    {
     "name": "stdout",
     "output_type": "stream",
     "text": [
      "Convolution difference: 0.000000\n",
      "Pooling difference: 0.000000\n",
      "ReLU difference: 0.000000\n",
      "Test passed: The outputs are very close!\n"
     ]
    }
   ],
   "execution_count": 37
  },
  {
   "metadata": {},
   "cell_type": "markdown",
   "source": "### Commutativity Test of MaxPool2d and ReLU Operations",
   "id": "d6a2ab3dfd4c2ce5"
  },
  {
   "metadata": {
    "ExecuteTime": {
     "end_time": "2025-01-12T16:50:15.296695Z",
     "start_time": "2025-01-12T16:50:15.251149Z"
    }
   },
   "cell_type": "code",
   "source": [
    "# random tensor in the range [-1, 1] with dimensions [1, 100, 100]\n",
    "x = torch.rand(1, 100, 100) * 2 - 1\n",
    "x.to(device)\n",
    "\n",
    "print(f\"Tensor shape: {x.shape}\")\n",
    "\n",
    "maxpool = MaxPool2d(kernel_size=3, stride=2).to(device)\n",
    "relu = ReLU().to(device)\n",
    "\n",
    "# Transformation 1: MaxPool2d followed by ReLU\n",
    "output1 = relu(maxpool(x))\n",
    "\n",
    "# Transformation 2: ReLU followed by MaxPool2d\n",
    "output2 = maxpool(relu(x))\n",
    "\n",
    "output_diff = torch.abs(output1 - output2).max()\n",
    "\n",
    "print(f\"Max difference between outputs: {output_diff.item():.6f}\")\n",
    "\n",
    "if output_diff < 1e-5:\n",
    "    print(\"Test passed: The outputs are very close!\")\n",
    "else:\n",
    "    print(\"Test failed: There is a noticeable difference.\")"
   ],
   "id": "435827b0959e715c",
   "outputs": [
    {
     "name": "stdout",
     "output_type": "stream",
     "text": [
      "Tensor shape: torch.Size([1, 100, 100])\n",
      "Max difference between outputs: 0.000000\n",
      "Test passed: The outputs are very close!\n"
     ]
    }
   ],
   "execution_count": 38
  },
  {
   "metadata": {},
   "cell_type": "markdown",
   "source": [
    "### Observations\n",
    "1. Observing the MaxPool2d and ReLU commutativity. \n",
    "- The fact that there is no difference in the outputs suggests that the order of applying the operations does not affect the final result and the functions are commutative.\n",
    "- To explain this mathematically:\n",
    "    - ReLU is a non-linear activation function that applies the element-wise operation `max(x, 0)` to the input tensor. It simply replaces any negative values with 0. \n",
    "    - MaxPool2d operation applies a sliding window (kernel) to find the maximum value in each window (patch) of the input tensor. If stride=2 and kernel_size=3, it computes the maximum value in a 3x3 patch and then moves the window by 2 steps in both the height and width directions.\n",
    "- **MaxPool2d followed by ReLU**: After performing MaxPool2d, the resulting tensor has the maximum values from each region of the input tensor (depending on the kernel size and stride). Then, ReLU is applied, setting any negative values to 0.\n",
    "- **ReLU followed by MaxPool2d**: In this case, ReLU first replaces negative values in the tensor with zeros. Afterward, MaxPool2d is applied, which calculates the maximum value within each patch, but now, the values within the patches have already been adjusted by ReLU.\n",
    "- *Key observation*: The commutativity of MaxPool2d and ReLU holds in this specific case because ReLU only modifies negative values, and MaxPool2d computes maximum values, which would be unaffected by negative values as long as the patch contains at least one non-negative value.\n",
    "\n",
    "2. Is the same true if we replace the maximal pooling operation with a convolution?\n",
    "- The result may not be the same as with MaxPool2d, because convolutions have a more complex interaction with the input data due to the learnable filters and their weights. To test this, we can replace the MaxPool2d operation with a convolution and observe the output differences.\n",
    "- **Mathematical explanation**: In the case of convolution followed by ReLU, the convolution operation applies a filter to the input and generates new values based on the learned kernel. Then, ReLU modifies the resulting values by setting any negative outputs to zero. On the other hand, ReLU followed by convolution first modifies the input tensor by setting negative values to zero and then applies the convolution operation to the modified tensor."
   ],
   "id": "40ec964be5a35869"
  },
  {
   "metadata": {
    "ExecuteTime": {
     "end_time": "2025-01-12T16:50:18.073951Z",
     "start_time": "2025-01-12T16:50:18.056416Z"
    }
   },
   "cell_type": "code",
   "source": [
    "x = x.to(device)\n",
    "\n",
    "conv = Conv2d(in_channels=1, out_channels=1, kernel_size=3, stride=2).to(device)\n",
    "relu = ReLU().to(device)\n",
    "\n",
    "# Transformation 1: Conv2d followed by ReLU\n",
    "output1 = relu(conv(x))\n",
    "\n",
    "# Transformation 2: ReLU followed by Conv2d\n",
    "output2 = conv(relu(x))\n",
    "\n",
    "output_diff = torch.abs(output1 - output2).max()\n",
    "\n",
    "print(f\"Max difference between outputs: {output_diff.item():.6f}\")\n",
    "\n",
    "if output_diff < 1e-5:\n",
    "    print(\"Test passed: The outputs are very close!\")\n",
    "else:\n",
    "    print(\"Test failed: There is a noticeable difference.\")\n"
   ],
   "id": "f410c20520972c2a",
   "outputs": [
    {
     "name": "stdout",
     "output_type": "stream",
     "text": [
      "Max difference between outputs: 2.168958\n",
      "Test failed: There is a noticeable difference.\n"
     ]
    }
   ],
   "execution_count": 39
  },
  {
   "metadata": {},
   "cell_type": "markdown",
   "source": [
    "### Defining the Neural Network Architecture\n",
    "#### 1. Using custom layers:"
   ],
   "id": "138f19109361ac23"
  },
  {
   "metadata": {
    "ExecuteTime": {
     "end_time": "2025-01-12T16:50:20.166127Z",
     "start_time": "2025-01-12T16:50:20.157953Z"
    }
   },
   "cell_type": "code",
   "source": [
    "class CustomNet(nn.Module):\n",
    "    def __init__(self):\n",
    "        super().__init__()\n",
    "\n",
    "        # First Block: Conv2d -> MaxPool2d -> ReLU\n",
    "        self.block1 = nn.Sequential(\n",
    "            Conv2d(in_channels=1, out_channels=32, kernel_size=3, stride=1),  \n",
    "            MaxPool2d(kernel_size=3, stride=2),  \n",
    "            ReLU()  \n",
    "        )\n",
    "\n",
    "        # Second Block: Conv2d -> MaxPool2d -> ReLU\n",
    "        self.block2 = nn.Sequential(\n",
    "            Conv2d(in_channels=32, out_channels=64, kernel_size=3, stride=1),  \n",
    "            MaxPool2d(kernel_size=3, stride=2),  \n",
    "            ReLU()  \n",
    "        )\n",
    "\n",
    "        # Final Conv2d Layer with kernel_size 4 and 10 output channels\n",
    "        self.final_conv = Conv2d(in_channels=64, out_channels=10, kernel_size=4)\n",
    "\n",
    "        # Flattening the output tensor\n",
    "        self.flatten = nn.Flatten()\n",
    "\n",
    "    def forward(self, x):\n",
    "        x = self.block1(x)\n",
    "        x = self.block2(x)\n",
    "        x = self.final_conv(x)\n",
    "        x = self.flatten(x)\n",
    "\n",
    "        return x"
   ],
   "id": "7800f1c73c5f86a",
   "outputs": [],
   "execution_count": 40
  },
  {
   "metadata": {
    "ExecuteTime": {
     "end_time": "2025-01-12T16:50:22.077387Z",
     "start_time": "2025-01-12T16:50:22.044020Z"
    }
   },
   "cell_type": "code",
   "source": [
    "x, y = train_dataset[0]\n",
    "model = CustomNet().to(device)\n",
    "output = model(x)\n",
    "print(f\"Output shape: {output.shape}\")"
   ],
   "id": "cb44d5a27107833e",
   "outputs": [
    {
     "name": "stdout",
     "output_type": "stream",
     "text": [
      "Output shape: torch.Size([64, 10])\n"
     ]
    }
   ],
   "execution_count": 41
  },
  {
   "metadata": {},
   "cell_type": "markdown",
   "source": "#### 2. Using PyTorch built-in layers:",
   "id": "dbe1e03765dfd53"
  },
  {
   "metadata": {
    "ExecuteTime": {
     "end_time": "2025-01-12T16:50:23.811435Z",
     "start_time": "2025-01-12T16:50:23.804508Z"
    }
   },
   "cell_type": "code",
   "source": [
    "class BuiltInNet(nn.Module):\n",
    "    def __init__(self):\n",
    "        super().__init__()\n",
    "        \n",
    "        self.block1 = nn.Sequential(\n",
    "            nn.Conv2d(in_channels=1, out_channels=32, kernel_size=3, stride=1),  \n",
    "            nn.MaxPool2d(kernel_size=3, stride=2),  \n",
    "            nn.ReLU()  \n",
    "        )\n",
    "\n",
    "        self.block2 = nn.Sequential(\n",
    "            nn.Conv2d(in_channels=32, out_channels=64, kernel_size=3, stride=1),  \n",
    "            nn.MaxPool2d(kernel_size=3, stride=2),  \n",
    "            nn.ReLU()  \n",
    "        )\n",
    "\n",
    "        self.final_conv = nn.Conv2d(in_channels=64, out_channels=10, kernel_size=4)\n",
    "\n",
    "        self.flatten = nn.Flatten()\n",
    "\n",
    "    def forward(self, x):\n",
    "        x = self.block1(x)\n",
    "        x = self.block2(x)\n",
    "        x = self.final_conv(x)\n",
    "        x = self.flatten(x)\n",
    "        \n",
    "        return x"
   ],
   "id": "1bc1474b6e1d1356",
   "outputs": [],
   "execution_count": 42
  },
  {
   "metadata": {
    "ExecuteTime": {
     "end_time": "2025-01-12T16:50:25.720920Z",
     "start_time": "2025-01-12T16:50:25.709921Z"
    }
   },
   "cell_type": "code",
   "source": [
    "x, _ = train_dataset[0]\n",
    "model2 = BuiltInNet().to(device)\n",
    "output2 = model2(x)\n",
    "print(f\"Output shape: {output2.shape}\")"
   ],
   "id": "f7d1f583ef0bf4a2",
   "outputs": [
    {
     "name": "stdout",
     "output_type": "stream",
     "text": [
      "Output shape: torch.Size([64, 10])\n"
     ]
    }
   ],
   "execution_count": 43
  },
  {
   "metadata": {},
   "cell_type": "markdown",
   "source": [
    "### Defining the 'fit' function\n",
    "Using the Stochastic Gradient Descent algorithm and the Cross-Entropy loss function we define the fit function, which takes in two parameters: the model we wish to fit and the number of epochs, denoting the number of times you will iterate over the training and validation datasets."
   ],
   "id": "813b48a5dc230e44"
  },
  {
   "metadata": {
    "ExecuteTime": {
     "end_time": "2025-01-12T16:50:27.470141Z",
     "start_time": "2025-01-12T16:50:27.459550Z"
    }
   },
   "cell_type": "code",
   "source": [
    "class NNTrainer:\n",
    "    def __init__(self, train_dataset, val_dataset, device):\n",
    "        \"\"\"\n",
    "        Initialize the trainer with the datasets and the device.\n",
    "        \n",
    "        Args:\n",
    "            train_dataset (Dataset): The training dataset object.\n",
    "            val_dataset (Dataset): The validation dataset object.\n",
    "            device (torch.device): The device to train the model on (e.g., 'cuda' or 'cpu').\n",
    "        \"\"\"\n",
    "        self.train_dataset = train_dataset\n",
    "        self.val_dataset = val_dataset\n",
    "        self.device = device\n",
    "\n",
    "    def fit(self, model, number_of_epochs):\n",
    "        optimizer = optim.SGD(model.parameters(), lr=0.01, momentum=0.9)\n",
    "        criterion = nn.CrossEntropyLoss()\n",
    "\n",
    "        training_losses = []\n",
    "        validation_losses = []\n",
    "\n",
    "        best_model = None\n",
    "        best_val_loss = float('inf')\n",
    "\n",
    "        for epoch in range(number_of_epochs):\n",
    "            model.train()\n",
    "            running_train_loss = 0.0\n",
    "\n",
    "            # Shuffle the training data at the beginning of each epoch\n",
    "            self.train_dataset.shuffle()\n",
    "\n",
    "            # Iterate over the batches of the training data manually\n",
    "            for batch_idx in range(len(self.train_dataset)):\n",
    "                inputs, targets = self.train_dataset[batch_idx]\n",
    "                inputs, targets = inputs.to(self.device), targets.to(self.device)\n",
    "\n",
    "                optimizer.zero_grad()\n",
    "\n",
    "                # Forward pass\n",
    "                outputs = model(inputs)\n",
    "\n",
    "                # Compute loss\n",
    "                loss = criterion(outputs, targets)\n",
    "\n",
    "                # Backward pass and optimize\n",
    "                loss.backward()\n",
    "                optimizer.step()\n",
    "\n",
    "                running_train_loss += loss.item()\n",
    "\n",
    "            avg_train_loss = running_train_loss / len(self.train_dataset)\n",
    "            training_losses.append(avg_train_loss)\n",
    "\n",
    "            model.eval()\n",
    "            running_val_loss = 0.0\n",
    "\n",
    "            # Disable gradient tracking to speed up inference and save memory\n",
    "            with torch.no_grad():\n",
    "                for batch_idx in range(len(self.val_dataset)):\n",
    "                    inputs, targets = self.val_dataset[batch_idx]\n",
    "                    inputs, targets = inputs.to(self.device), targets.to(self.device)\n",
    "                    outputs = model(inputs)\n",
    "                    loss = criterion(outputs, targets)\n",
    "                    running_val_loss += loss.item()\n",
    "\n",
    "            avg_val_loss = running_val_loss / len(self.val_dataset)\n",
    "            validation_losses.append(avg_val_loss)\n",
    "\n",
    "            if avg_val_loss < best_val_loss:\n",
    "                best_val_loss = avg_val_loss\n",
    "                best_model = model.state_dict()\n",
    "\n",
    "            print(f\"Epoch {epoch + 1}/{number_of_epochs}, \"\n",
    "                  f\"Training Loss: {avg_train_loss:.4f}, \"\n",
    "                  f\"Validation Loss: {avg_val_loss:.4f}\")\n",
    "\n",
    "        return best_model, training_losses, validation_losses\n"
   ],
   "id": "f8d2374d020eb94e",
   "outputs": [],
   "execution_count": 44
  },
  {
   "metadata": {
    "ExecuteTime": {
     "end_time": "2025-01-12T16:50:29.983859Z",
     "start_time": "2025-01-12T16:50:29.972818Z"
    }
   },
   "cell_type": "code",
   "source": [
    "custom_model = CustomNet().to(device)\n",
    "builtin_model = BuiltInNet().to(device)"
   ],
   "id": "fc3397a8f51e3b32",
   "outputs": [],
   "execution_count": 45
  },
  {
   "metadata": {
    "ExecuteTime": {
     "end_time": "2025-01-12T16:50:32.449887Z",
     "start_time": "2025-01-12T16:50:32.445460Z"
    }
   },
   "cell_type": "code",
   "source": "trainer = NNTrainer(train_dataset, val_dataset, device)",
   "id": "2e21a636808f9ce5",
   "outputs": [],
   "execution_count": 46
  },
  {
   "metadata": {
    "ExecuteTime": {
     "end_time": "2025-01-12T16:50:50.690823Z",
     "start_time": "2025-01-12T16:50:40.005064Z"
    }
   },
   "cell_type": "code",
   "source": "builtin_best_model, builtin_train_losses, builtin_val_losses = trainer.fit(builtin_model, 10)",
   "id": "91f12910f904a909",
   "outputs": [
    {
     "name": "stdout",
     "output_type": "stream",
     "text": [
      "Epoch 1/10, Training Loss: 0.6887, Validation Loss: 0.4836\n",
      "Epoch 2/10, Training Loss: 0.4448, Validation Loss: 0.4315\n",
      "Epoch 3/10, Training Loss: 0.3881, Validation Loss: 0.3686\n",
      "Epoch 4/10, Training Loss: 0.3545, Validation Loss: 0.3533\n",
      "Epoch 5/10, Training Loss: 0.3297, Validation Loss: 0.3667\n",
      "Epoch 6/10, Training Loss: 0.3167, Validation Loss: 0.3181\n",
      "Epoch 7/10, Training Loss: 0.3003, Validation Loss: 0.3127\n",
      "Epoch 8/10, Training Loss: 0.2887, Validation Loss: 0.3052\n",
      "Epoch 9/10, Training Loss: 0.2799, Validation Loss: 0.3184\n",
      "Epoch 10/10, Training Loss: 0.2724, Validation Loss: 0.3039\n"
     ]
    }
   ],
   "execution_count": 47
  },
  {
   "metadata": {
    "ExecuteTime": {
     "end_time": "2025-01-12T16:51:44.320418Z",
     "start_time": "2025-01-12T16:50:59.325242Z"
    }
   },
   "cell_type": "code",
   "source": "custom_best_model, custom_train_losses, custom_val_losses = trainer.fit(custom_model, 10)",
   "id": "84302458cf347921",
   "outputs": [
    {
     "name": "stdout",
     "output_type": "stream",
     "text": [
      "Epoch 1/10, Training Loss: 9.8963, Validation Loss: 2.3028\n",
      "Epoch 2/10, Training Loss: 2.3030, Validation Loss: 2.3026\n",
      "Epoch 3/10, Training Loss: 2.3030, Validation Loss: 2.3027\n",
      "Epoch 4/10, Training Loss: 2.3030, Validation Loss: 2.3031\n",
      "Epoch 5/10, Training Loss: 2.3030, Validation Loss: 2.3032\n",
      "Epoch 6/10, Training Loss: 2.3030, Validation Loss: 2.3030\n",
      "Epoch 7/10, Training Loss: 2.3031, Validation Loss: 2.3030\n",
      "Epoch 8/10, Training Loss: 2.3030, Validation Loss: 2.3028\n",
      "Epoch 9/10, Training Loss: 2.3031, Validation Loss: 2.3030\n",
      "Epoch 10/10, Training Loss: 2.3031, Validation Loss: 2.3027\n"
     ]
    }
   ],
   "execution_count": 48
  },
  {
   "metadata": {
    "ExecuteTime": {
     "end_time": "2025-01-12T16:52:23.415121Z",
     "start_time": "2025-01-12T16:52:23.189588Z"
    }
   },
   "cell_type": "code",
   "source": [
    "plt.figure(figsize=(10, 6))\n",
    "plt.plot(custom_train_losses, label='Custom Model - Training Loss')\n",
    "plt.plot(custom_val_losses, label='Custom Model - Validation Loss')\n",
    "plt.plot(builtin_train_losses, label='Built-in Model - Training Loss')\n",
    "plt.plot(builtin_val_losses, label='Built-in Model - Validation Loss')\n",
    "\n",
    "plt.title('Training and Validation Losses for Both Models')\n",
    "plt.xlabel('Epoch')\n",
    "plt.ylabel('Loss')\n",
    "plt.legend()\n",
    "plt.show()\n"
   ],
   "id": "2d377ae86ec27042",
   "outputs": [
    {
     "data": {
      "text/plain": [
       "<Figure size 1000x600 with 1 Axes>"
      ],
      "image/png": "[encoded data removed]"
     },
     "metadata": {},
     "output_type": "display_data"
    }
   ],
   "execution_count": 49
  }
 ],
 "metadata": {
  "kernelspec": {
   "display_name": "Python 3",
   "language": "python",
   "name": "python3"
  },
  "language_info": {
   "codemirror_mode": {
    "name": "ipython",
    "version": 2
   },
   "file_extension": ".py",
   "mimetype": "text/x-python",
   "name": "python",
   "nbconvert_exporter": "python",
   "pygments_lexer": "ipython2",
   "version": "2.7.6"
  }
 },
 "nbformat": 4,
 "nbformat_minor": 5
}
